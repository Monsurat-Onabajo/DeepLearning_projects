{
  "cells": [
    {
      "cell_type": "markdown",
      "metadata": {
        "id": "view-in-github",
        "colab_type": "text"
      },
      "source": [
        "<a href=\"https://colab.research.google.com/github/Monsurat-Onabajo/DeepLearning_projects/blob/main/CiFA10_computer_vision.ipynb\" target=\"_parent\"><img src=\"https://colab.research.google.com/assets/colab-badge.svg\" alt=\"Open In Colab\"/></a>"
      ]
    },
    {
      "cell_type": "code",
      "execution_count": 1,
      "metadata": {
        "colab": {
          "base_uri": "https://localhost:8080/"
        },
        "id": "KLp6JGZV3vVg",
        "outputId": "f5b4004e-dbc9-4d89-9038-e6a04ded2d46"
      },
      "outputs": [
        {
          "output_type": "stream",
          "name": "stdout",
          "text": [
            "Looking in indexes: https://pypi.org/simple, https://us-python.pkg.dev/colab-wheels/public/simple/\n",
            "Collecting torchmetrics\n",
            "  Downloading torchmetrics-0.11.4-py3-none-any.whl (519 kB)\n",
            "\u001b[2K     \u001b[90m━━━━━━━━━━━━━━━━━━━━━━━━━━━━━━━━━━━━━━\u001b[0m \u001b[32m519.2/519.2 kB\u001b[0m \u001b[31m33.1 MB/s\u001b[0m eta \u001b[36m0:00:00\u001b[0m\n",
            "\u001b[?25hRequirement already satisfied: torch>=1.8.1 in /usr/local/lib/python3.10/dist-packages (from torchmetrics) (2.0.0+cu118)\n",
            "Requirement already satisfied: packaging in /usr/local/lib/python3.10/dist-packages (from torchmetrics) (23.1)\n",
            "Requirement already satisfied: numpy>=1.17.2 in /usr/local/lib/python3.10/dist-packages (from torchmetrics) (1.22.4)\n",
            "Requirement already satisfied: triton==2.0.0 in /usr/local/lib/python3.10/dist-packages (from torch>=1.8.1->torchmetrics) (2.0.0)\n",
            "Requirement already satisfied: typing-extensions in /usr/local/lib/python3.10/dist-packages (from torch>=1.8.1->torchmetrics) (4.5.0)\n",
            "Requirement already satisfied: networkx in /usr/local/lib/python3.10/dist-packages (from torch>=1.8.1->torchmetrics) (3.1)\n",
            "Requirement already satisfied: sympy in /usr/local/lib/python3.10/dist-packages (from torch>=1.8.1->torchmetrics) (1.11.1)\n",
            "Requirement already satisfied: filelock in /usr/local/lib/python3.10/dist-packages (from torch>=1.8.1->torchmetrics) (3.12.0)\n",
            "Requirement already satisfied: jinja2 in /usr/local/lib/python3.10/dist-packages (from torch>=1.8.1->torchmetrics) (3.1.2)\n",
            "Requirement already satisfied: lit in /usr/local/lib/python3.10/dist-packages (from triton==2.0.0->torch>=1.8.1->torchmetrics) (16.0.2)\n",
            "Requirement already satisfied: cmake in /usr/local/lib/python3.10/dist-packages (from triton==2.0.0->torch>=1.8.1->torchmetrics) (3.25.2)\n",
            "Requirement already satisfied: MarkupSafe>=2.0 in /usr/local/lib/python3.10/dist-packages (from jinja2->torch>=1.8.1->torchmetrics) (2.1.2)\n",
            "Requirement already satisfied: mpmath>=0.19 in /usr/local/lib/python3.10/dist-packages (from sympy->torch>=1.8.1->torchmetrics) (1.3.0)\n",
            "Installing collected packages: torchmetrics\n",
            "Successfully installed torchmetrics-0.11.4\n"
          ]
        }
      ],
      "source": [
        "!pip install torchmetrics"
      ]
    },
    {
      "cell_type": "code",
      "execution_count": 2,
      "metadata": {
        "id": "dFilhUO8oS0s"
      },
      "outputs": [],
      "source": [
        "import torchvision\n",
        "from torchvision import datasets, transforms\n",
        "import matplotlib.pyplot as plt\n",
        "import torch\n",
        "from torch import nn\n",
        "from PIL import Image\n",
        "import numpy as np\n",
        "from torch.utils.data.dataloader import DataLoader\n",
        "from torchmetrics import Accuracy\n",
        "from tqdm.auto import tqdm \n",
        "from pathlib import Path\n",
        "import requests\n",
        "from torchvision.transforms import AutoAugment, AutoAugmentPolicy"
      ]
    },
    {
      "cell_type": "code",
      "execution_count": 3,
      "metadata": {
        "colab": {
          "base_uri": "https://localhost:8080/",
          "height": 35
        },
        "id": "ZT_ynPn6zWjI",
        "outputId": "2370e156-003e-429b-e196-e54c364d3b7a"
      },
      "outputs": [
        {
          "output_type": "execute_result",
          "data": {
            "text/plain": [
              "'cuda'"
            ],
            "application/vnd.google.colaboratory.intrinsic+json": {
              "type": "string"
            }
          },
          "metadata": {},
          "execution_count": 3
        }
      ],
      "source": [
        "device= 'cuda' if torch.cuda.is_available() else 'cpu'\n",
        "device"
      ]
    },
    {
      "cell_type": "markdown",
      "metadata": {
        "id": "_zGSh5TbsVFb"
      },
      "source": [
        "# Data Analysis\n",
        "\n",
        "* Downloading and exploring of data\n",
        "* Creating helper functions for data visualization to reduce code repetition"
      ]
    },
    {
      "cell_type": "code",
      "execution_count": 4,
      "metadata": {
        "colab": {
          "base_uri": "https://localhost:8080/"
        },
        "id": "exX-HvD9jjji",
        "outputId": "4c27d54a-70b1-4496-8848-5086066efe96"
      },
      "outputs": [
        {
          "output_type": "stream",
          "name": "stdout",
          "text": [
            "Mon May  1 15:54:37 2023       \n",
            "+-----------------------------------------------------------------------------+\n",
            "| NVIDIA-SMI 525.85.12    Driver Version: 525.85.12    CUDA Version: 12.0     |\n",
            "|-------------------------------+----------------------+----------------------+\n",
            "| GPU  Name        Persistence-M| Bus-Id        Disp.A | Volatile Uncorr. ECC |\n",
            "| Fan  Temp  Perf  Pwr:Usage/Cap|         Memory-Usage | GPU-Util  Compute M. |\n",
            "|                               |                      |               MIG M. |\n",
            "|===============================+======================+======================|\n",
            "|   0  Tesla T4            Off  | 00000000:00:04.0 Off |                    0 |\n",
            "| N/A   43C    P8    11W /  70W |      3MiB / 15360MiB |      0%      Default |\n",
            "|                               |                      |                  N/A |\n",
            "+-------------------------------+----------------------+----------------------+\n",
            "                                                                               \n",
            "+-----------------------------------------------------------------------------+\n",
            "| Processes:                                                                  |\n",
            "|  GPU   GI   CI        PID   Type   Process name                  GPU Memory |\n",
            "|        ID   ID                                                   Usage      |\n",
            "|=============================================================================|\n",
            "|  No running processes found                                                 |\n",
            "+-----------------------------------------------------------------------------+\n"
          ]
        }
      ],
      "source": [
        "!nvidia-smi"
      ]
    },
    {
      "cell_type": "code",
      "execution_count": 5,
      "metadata": {
        "id": "GtVz8Im_1quZ"
      },
      "outputs": [],
      "source": [
        "# Transform data \n",
        "train_transform= transforms.Compose([transforms.AutoAugment(policy=AutoAugmentPolicy.CIFAR10),\n",
        "                                     transforms.RandomHorizontalFlip(p=0.5),                                    \n",
        "                                     transforms.ToTensor(),                                                                 \n",
        "                                      ])\n",
        "\n",
        "test_transform= transforms.Compose([transforms.ToTensor()])"
      ]
    },
    {
      "cell_type": "code",
      "execution_count": 6,
      "metadata": {
        "colab": {
          "base_uri": "https://localhost:8080/"
        },
        "id": "ql287SxnsY8c",
        "outputId": "4f9dbf70-18a4-41f8-db38-a7e08da9707d"
      },
      "outputs": [
        {
          "output_type": "stream",
          "name": "stdout",
          "text": [
            "Downloading https://www.cs.toronto.edu/~kriz/cifar-10-python.tar.gz to cifa_dataset/cifar-10-python.tar.gz\n"
          ]
        },
        {
          "output_type": "stream",
          "name": "stderr",
          "text": [
            "100%|██████████| 170498071/170498071 [00:12<00:00, 13264588.63it/s]\n"
          ]
        },
        {
          "output_type": "stream",
          "name": "stdout",
          "text": [
            "Extracting cifa_dataset/cifar-10-python.tar.gz to cifa_dataset\n",
            "Downloading https://www.cs.toronto.edu/~kriz/cifar-10-python.tar.gz to cifa_dataset_test/cifar-10-python.tar.gz\n"
          ]
        },
        {
          "output_type": "stream",
          "name": "stderr",
          "text": [
            "100%|██████████| 170498071/170498071 [00:13<00:00, 12916035.01it/s]\n"
          ]
        },
        {
          "output_type": "stream",
          "name": "stdout",
          "text": [
            "Extracting cifa_dataset_test/cifar-10-python.tar.gz to cifa_dataset_test\n"
          ]
        }
      ],
      "source": [
        "train_data= torchvision.datasets.CIFAR10(root= 'cifa_dataset', \n",
        "                                         train= True,\n",
        "                                         transform=train_transform,\n",
        "                                         download= True,\n",
        "                                         target_transform=None)\n",
        "test_data= torchvision.datasets.CIFAR10(root= 'cifa_dataset_test',\n",
        "                                        train= False,\n",
        "                                        transform=test_transform,\n",
        "                                        download= True,\n",
        "                                        target_transform=None)"
      ]
    },
    {
      "cell_type": "code",
      "execution_count": 7,
      "metadata": {
        "colab": {
          "base_uri": "https://localhost:8080/"
        },
        "id": "1G7_4SD1tKDv",
        "outputId": "b7e2e037-970e-470d-b047-a8df6833b6f9"
      },
      "outputs": [
        {
          "output_type": "execute_result",
          "data": {
            "text/plain": [
              "Dataset CIFAR10\n",
              "    Number of datapoints: 10000\n",
              "    Root location: cifa_dataset_test\n",
              "    Split: Test\n",
              "    StandardTransform\n",
              "Transform: Compose(\n",
              "               ToTensor()\n",
              "           )"
            ]
          },
          "metadata": {},
          "execution_count": 7
        }
      ],
      "source": [
        "test_data"
      ]
    },
    {
      "cell_type": "code",
      "execution_count": 8,
      "metadata": {
        "colab": {
          "base_uri": "https://localhost:8080/"
        },
        "id": "PKnnAPhLtkMH",
        "outputId": "7ee29246-a52a-42e5-e121-664efe24da2c"
      },
      "outputs": [
        {
          "output_type": "execute_result",
          "data": {
            "text/plain": [
              "Dataset CIFAR10\n",
              "    Number of datapoints: 50000\n",
              "    Root location: cifa_dataset\n",
              "    Split: Train\n",
              "    StandardTransform\n",
              "Transform: Compose(\n",
              "               AutoAugment(policy=AutoAugmentPolicy.CIFAR10, fill=None)\n",
              "               RandomHorizontalFlip(p=0.5)\n",
              "               ToTensor()\n",
              "           )"
            ]
          },
          "metadata": {},
          "execution_count": 8
        }
      ],
      "source": [
        "train_data"
      ]
    },
    {
      "cell_type": "code",
      "execution_count": 9,
      "metadata": {
        "colab": {
          "base_uri": "https://localhost:8080/"
        },
        "id": "0mZaAdqyhSoO",
        "outputId": "9676dad6-7823-41ad-9bf2-8d5004f07aa6"
      },
      "outputs": [
        {
          "output_type": "execute_result",
          "data": {
            "text/plain": [
              "(50000, 10000)"
            ]
          },
          "metadata": {},
          "execution_count": 9
        }
      ],
      "source": [
        "len(train_data), len(test_data)"
      ]
    },
    {
      "cell_type": "code",
      "execution_count": 10,
      "metadata": {
        "colab": {
          "base_uri": "https://localhost:8080/"
        },
        "id": "-Iuyf2kjtmnv",
        "outputId": "41df6003-8e1d-40f9-a1e9-97252ad7389f"
      },
      "outputs": [
        {
          "output_type": "execute_result",
          "data": {
            "text/plain": [
              "['__add__',\n",
              " '__annotations__',\n",
              " '__class__',\n",
              " '__class_getitem__',\n",
              " '__delattr__',\n",
              " '__dict__',\n",
              " '__dir__',\n",
              " '__doc__',\n",
              " '__eq__',\n",
              " '__format__',\n",
              " '__ge__',\n",
              " '__getattribute__',\n",
              " '__getitem__',\n",
              " '__gt__',\n",
              " '__hash__',\n",
              " '__init__',\n",
              " '__init_subclass__',\n",
              " '__le__',\n",
              " '__len__',\n",
              " '__lt__',\n",
              " '__module__',\n",
              " '__ne__',\n",
              " '__new__',\n",
              " '__orig_bases__',\n",
              " '__parameters__',\n",
              " '__reduce__',\n",
              " '__reduce_ex__',\n",
              " '__repr__',\n",
              " '__setattr__',\n",
              " '__sizeof__',\n",
              " '__slots__',\n",
              " '__str__',\n",
              " '__subclasshook__',\n",
              " '__weakref__',\n",
              " '_check_integrity',\n",
              " '_format_transform_repr',\n",
              " '_is_protocol',\n",
              " '_load_meta',\n",
              " '_repr_indent',\n",
              " 'base_folder',\n",
              " 'class_to_idx',\n",
              " 'classes',\n",
              " 'data',\n",
              " 'download',\n",
              " 'extra_repr',\n",
              " 'filename',\n",
              " 'meta',\n",
              " 'root',\n",
              " 'target_transform',\n",
              " 'targets',\n",
              " 'test_list',\n",
              " 'tgz_md5',\n",
              " 'train',\n",
              " 'train_list',\n",
              " 'transform',\n",
              " 'transforms',\n",
              " 'url']"
            ]
          },
          "metadata": {},
          "execution_count": 10
        }
      ],
      "source": [
        "dir(train_data)"
      ]
    },
    {
      "cell_type": "code",
      "execution_count": 11,
      "metadata": {
        "colab": {
          "base_uri": "https://localhost:8080/"
        },
        "id": "TMHp8uqatzHD",
        "outputId": "a807981b-f0ff-4a93-c579-457dcb897ef8"
      },
      "outputs": [
        {
          "output_type": "execute_result",
          "data": {
            "text/plain": [
              "(50000, 32, 32, 3)"
            ]
          },
          "metadata": {},
          "execution_count": 11
        }
      ],
      "source": [
        "train_data.data.shape"
      ]
    },
    {
      "cell_type": "code",
      "execution_count": 12,
      "metadata": {
        "colab": {
          "base_uri": "https://localhost:8080/"
        },
        "id": "hluMjEv3t3uh",
        "outputId": "a1ebef5c-ab99-41a4-aa55-77c3ad588396"
      },
      "outputs": [
        {
          "output_type": "execute_result",
          "data": {
            "text/plain": [
              "(10000, 32, 32, 3)"
            ]
          },
          "metadata": {},
          "execution_count": 12
        }
      ],
      "source": [
        "test_data.data.shape"
      ]
    },
    {
      "cell_type": "code",
      "execution_count": 13,
      "metadata": {
        "colab": {
          "base_uri": "https://localhost:8080/"
        },
        "id": "njIYIativOwv",
        "outputId": "1c0775ba-357c-4a4a-d8f1-929871f3ffd2"
      },
      "outputs": [
        {
          "output_type": "execute_result",
          "data": {
            "text/plain": [
              "{'airplane': 0,\n",
              " 'automobile': 1,\n",
              " 'bird': 2,\n",
              " 'cat': 3,\n",
              " 'deer': 4,\n",
              " 'dog': 5,\n",
              " 'frog': 6,\n",
              " 'horse': 7,\n",
              " 'ship': 8,\n",
              " 'truck': 9}"
            ]
          },
          "metadata": {},
          "execution_count": 13
        }
      ],
      "source": [
        "train_data.class_to_idx"
      ]
    },
    {
      "cell_type": "code",
      "execution_count": 14,
      "metadata": {
        "colab": {
          "base_uri": "https://localhost:8080/"
        },
        "id": "u9NXoZDNvaFq",
        "outputId": "dfd2a1a8-9331-45c5-c198-0a367e230102"
      },
      "outputs": [
        {
          "output_type": "execute_result",
          "data": {
            "text/plain": [
              "[6, 9, 9, 4, 1, 1, 2, 7, 8, 3]"
            ]
          },
          "metadata": {},
          "execution_count": 14
        }
      ],
      "source": [
        "train_data.targets[: 10]"
      ]
    },
    {
      "cell_type": "code",
      "execution_count": 15,
      "metadata": {
        "id": "KY6CDOlc6h4x"
      },
      "outputs": [],
      "source": [
        "class_names= train_data.classes"
      ]
    },
    {
      "cell_type": "code",
      "execution_count": 16,
      "metadata": {
        "id": "U-tuE7B2vjDp"
      },
      "outputs": [],
      "source": [
        "def show_image(image_data, class_names, class_preds = None):\n",
        "  \"\"\"\n",
        "  this functions takes in 9 batches of array of numbers in height, weight and color format functions\n",
        "  and returns a 3 by 3 visualization of the data\n",
        "\n",
        "  args\n",
        "  ----\n",
        "  image_data: (array) arrays of numbers in height, weight and color format \n",
        "  class_names: (list) class names of the data\n",
        "  class_preds: (Optional) if available, The Target name that the model predicted\n",
        "  smooth:(Boolean) either pixelated or smooth version of the dataset\n",
        "  \"\"\"\n",
        "\n",
        "  classes_names= train_data.classes\n",
        "  fig= plt.figure(figsize=(9,9))\n",
        "  rows, cols=3,3\n",
        "  for i in range(1, rows*cols+1):\n",
        "    img= image_data[i]\n",
        "    label= classes_names[class_names[i]]\n",
        "    fig.add_subplot(rows, cols, i)\n",
        "    plt.imshow(img,\n",
        "               #interpolation= 'spline16',\n",
        "               interpolation_stage='rgba')\n",
        "\n",
        "    if class_preds is None:\n",
        "      plt.title(label)\n",
        "    else:\n",
        "      pred= classes_names[class_preds[i]]\n",
        "      title_text= f'Truth:{label} | Pred:{pred}'\n",
        "      if label==pred:\n",
        "        plt.title(title_text, fontsize=10, c='g') \n",
        "      else:\n",
        "        plt.title(title_text, fontsize=10, c='r')\n",
        "  \n",
        "    plt.axis(False)\n",
        "  "
      ]
    },
    {
      "cell_type": "code",
      "execution_count": 17,
      "metadata": {
        "colab": {
          "base_uri": "https://localhost:8080/",
          "height": 752
        },
        "id": "w5D98Z3V7C7a",
        "outputId": "a7efecea-5bb5-4605-dc17-563cc3216022"
      },
      "outputs": [
        {
          "output_type": "display_data",
          "data": {
            "text/plain": [
              "<Figure size 900x900 with 9 Axes>"
            ],
            "image/png": "[encoded data removed]"
          },
          "metadata": {}
        }
      ],
      "source": [
        "show_image(image_data=train_data.data[: 10], class_names= train_data.targets[: 10])"
      ]
    },
    {
      "cell_type": "markdown",
      "metadata": {
        "id": "150lIpYs3sxW"
      },
      "source": [
        "### Getting our data ready\n",
        "* Create a batch size of 32"
      ]
    },
    {
      "cell_type": "code",
      "execution_count": 18,
      "metadata": {
        "colab": {
          "base_uri": "https://localhost:8080/"
        },
        "id": "lEbHp2CeYpVP",
        "outputId": "501cbb4a-2bbf-47ae-8a6c-d79e48c425fb"
      },
      "outputs": [
        {
          "output_type": "execute_result",
          "data": {
            "text/plain": [
              "(torch.Size([3, 32, 32]), 6)"
            ]
          },
          "metadata": {},
          "execution_count": 18
        }
      ],
      "source": [
        "img, label= train_data[0]\n",
        "img.shape, label"
      ]
    },
    {
      "cell_type": "code",
      "execution_count": 19,
      "metadata": {
        "colab": {
          "base_uri": "https://localhost:8080/"
        },
        "id": "QaufuEPcdFPn",
        "outputId": "3d8437ea-d258-4722-8ccc-56dfa67913ac"
      },
      "outputs": [
        {
          "output_type": "execute_result",
          "data": {
            "text/plain": [
              "torch.float32"
            ]
          },
          "metadata": {},
          "execution_count": 19
        }
      ],
      "source": [
        "img.dtype"
      ]
    },
    {
      "cell_type": "code",
      "execution_count": 20,
      "metadata": {
        "colab": {
          "base_uri": "https://localhost:8080/"
        },
        "id": "bWnT7w8kovR9",
        "outputId": "812fbe77-5036-4889-f840-71b7167e6eca"
      },
      "outputs": [
        {
          "output_type": "execute_result",
          "data": {
            "text/plain": [
              "(<torch.utils.data.dataloader.DataLoader at 0x7f03d4a2c580>,\n",
              " <torch.utils.data.dataloader.DataLoader at 0x7f03d4a2e0b0>)"
            ]
          },
          "metadata": {},
          "execution_count": 20
        }
      ],
      "source": [
        "train_dataloader= DataLoader(dataset= train_data,\n",
        "                             batch_size= 32,\n",
        "                             shuffle= True,\n",
        "                             )\n",
        "\n",
        "test_dataloader= DataLoader(dataset=test_data,\n",
        "                            batch_size=32,\n",
        "                            shuffle=True,                           \n",
        "                            )\n",
        "\n",
        "train_dataloader, test_dataloader"
      ]
    },
    {
      "cell_type": "code",
      "execution_count": 21,
      "metadata": {
        "colab": {
          "base_uri": "https://localhost:8080/"
        },
        "id": "5Q2YHoVbrlnJ",
        "outputId": "2c53aa37-fced-47f2-bd39-81088086233f"
      },
      "outputs": [
        {
          "output_type": "execute_result",
          "data": {
            "text/plain": [
              "(1563, 313)"
            ]
          },
          "metadata": {},
          "execution_count": 21
        }
      ],
      "source": [
        "len(train_dataloader), len(test_dataloader)"
      ]
    },
    {
      "cell_type": "markdown",
      "metadata": {
        "id": "tjF3B4jcsn1L"
      },
      "source": [
        "### Exploring the data in batches"
      ]
    },
    {
      "cell_type": "code",
      "execution_count": 22,
      "metadata": {
        "colab": {
          "base_uri": "https://localhost:8080/"
        },
        "id": "7__nEqhZr8Mg",
        "outputId": "fa718af8-880f-4e74-db2e-c0048619f581"
      },
      "outputs": [
        {
          "output_type": "execute_result",
          "data": {
            "text/plain": [
              "(torch.Size([32, 3, 32, 32]), torch.Size([32]))"
            ]
          },
          "metadata": {},
          "execution_count": 22
        }
      ],
      "source": [
        "train_feature_batch, train_label_batch= next(iter(train_dataloader))\n",
        "train_feature_batch.shape, train_label_batch.shape"
      ]
    },
    {
      "cell_type": "code",
      "execution_count": 23,
      "metadata": {
        "colab": {
          "base_uri": "https://localhost:8080/"
        },
        "id": "Y3szETzQxijs",
        "outputId": "1637432f-9fc4-4597-8ea3-ea76679e6376"
      },
      "outputs": [
        {
          "output_type": "execute_result",
          "data": {
            "text/plain": [
              "torch.Size([9, 3, 32, 32])"
            ]
          },
          "metadata": {},
          "execution_count": 23
        }
      ],
      "source": [
        "# Pytorch takes in shape image in [batch_size, color, height, weight] but matplotlib takes in image in [batch_size, height, weight, color ] \n",
        "# It has to be reshape into [batch_size, height, weight, color ] before it can be plotted out\n",
        "train_feature_batch[: 9].shape"
      ]
    },
    {
      "cell_type": "code",
      "execution_count": 24,
      "metadata": {
        "colab": {
          "base_uri": "https://localhost:8080/",
          "height": 752
        },
        "id": "U_WAJij3w92v",
        "outputId": "6d9e180a-f47c-4751-e87b-401dfd789d25"
      },
      "outputs": [
        {
          "output_type": "display_data",
          "data": {
            "text/plain": [
              "<Figure size 900x900 with 9 Axes>"
            ],
            "image/png": "[encoded data removed]"
          },
          "metadata": {}
        }
      ],
      "source": [
        "show_image(image_data=train_feature_batch[: 10].permute(0,2,3,1), class_names= train_label_batch[: 10])"
      ]
    },
    {
      "cell_type": "code",
      "execution_count": 25,
      "metadata": {
        "colab": {
          "base_uri": "https://localhost:8080/",
          "height": 752
        },
        "id": "ktdJyMVUt69U",
        "outputId": "3cdb953e-f287-46a6-d015-e5b015d06a54"
      },
      "outputs": [
        {
          "output_type": "display_data",
          "data": {
            "text/plain": [
              "<Figure size 900x900 with 9 Axes>"
            ],
            "image/png": "[encoded data removed]"
          },
          "metadata": {}
        }
      ],
      "source": [
        "show_image(image_data=train_feature_batch[10: 20].permute(0,2,3,1), class_names= train_label_batch[10:20])"
      ]
    },
    {
      "cell_type": "markdown",
      "metadata": {
        "id": "ViySCGU5u-zO"
      },
      "source": [
        "### Creating a Baseline Model\n",
        "\n",
        "The data has been transformed sucessfully and i can now build a baseline model"
      ]
    },
    {
      "cell_type": "code",
      "execution_count": 26,
      "metadata": {
        "colab": {
          "base_uri": "https://localhost:8080/"
        },
        "id": "vXBAfpJHzUJE",
        "outputId": "dbb3e6b9-756a-4b34-cdf8-00a6ca36597f"
      },
      "outputs": [
        {
          "output_type": "execute_result",
          "data": {
            "text/plain": [
              "BaselineModel(\n",
              "  (layer): Sequential(\n",
              "    (0): Conv2d(3, 200, kernel_size=(3, 3), stride=(1, 1), padding=(1, 1))\n",
              "    (1): MaxPool2d(kernel_size=2, stride=2, padding=0, dilation=1, ceil_mode=False)\n",
              "  )\n",
              "  (classifier): Sequential(\n",
              "    (0): Flatten(start_dim=1, end_dim=-1)\n",
              "    (1): Linear(in_features=51200, out_features=200, bias=True)\n",
              "    (2): ReLU()\n",
              "    (3): Linear(in_features=200, out_features=10, bias=True)\n",
              "  )\n",
              ")"
            ]
          },
          "metadata": {},
          "execution_count": 26
        }
      ],
      "source": [
        "class BaselineModel(nn.Module):\n",
        "  def __init__(self, input_shape, hidden_units, output_shape):\n",
        "    super().__init__()\n",
        "    self.layer= nn.Sequential(\n",
        "        nn.Conv2d(in_channels= input_shape,# in_channels = no of channels in visual data. it is usually input shape\n",
        "                  out_channels= hidden_units,\n",
        "                  kernel_size= 3,\n",
        "                  stride=1,\n",
        "                  padding=1),\n",
        "        nn.MaxPool2d(kernel_size=2)\n",
        "        )\n",
        "    self.classifier= nn.Sequential(\n",
        "        nn.Flatten(),\n",
        "        nn.Linear(in_features= hidden_units*16*16, out_features= hidden_units),\n",
        "        nn.ReLU(),\n",
        "        nn.Linear(in_features= hidden_units, out_features= output_shape)\n",
        "    )\n",
        "  def forward(self, x):\n",
        "    x= self.layer(x)\n",
        "    #print (x.shape)\n",
        "    x= self.classifier(x)\n",
        "    return (x)\n",
        "\n",
        "torch.manual_seed(42)\n",
        "model= BaselineModel(input_shape= 3,\n",
        "                     hidden_units=200,\n",
        "                     output_shape= len(class_names)).to(device)\n",
        "model"
      ]
    },
    {
      "cell_type": "markdown",
      "metadata": {
        "id": "ILTo0B3k2d-U"
      },
      "source": [
        "### Test model on dummy data"
      ]
    },
    {
      "cell_type": "code",
      "execution_count": 27,
      "metadata": {
        "colab": {
          "base_uri": "https://localhost:8080/"
        },
        "id": "rkUN4qW32gqR",
        "outputId": "2279d363-4b7f-4666-d8b0-b1d1b5bc33b3"
      },
      "outputs": [
        {
          "output_type": "execute_result",
          "data": {
            "text/plain": [
              "torch.Size([1, 3, 32, 32])"
            ]
          },
          "metadata": {},
          "execution_count": 27
        }
      ],
      "source": [
        "dummy_x= torch.rand(size= [1,3,32,32])\n",
        "dummy_x.shape"
      ]
    },
    {
      "cell_type": "code",
      "execution_count": 28,
      "metadata": {
        "colab": {
          "base_uri": "https://localhost:8080/"
        },
        "id": "0KdN9bS-3MAM",
        "outputId": "27aa0662-1c12-4a0d-b8f7-d66111510976"
      },
      "outputs": [
        {
          "output_type": "execute_result",
          "data": {
            "text/plain": [
              "tensor([[ 0.0811, -0.0460, -0.0285, -0.0741, -0.0017, -0.0647, -0.1179, -0.3091,\n",
              "          0.0141, -0.0028]], device='cuda:0', grad_fn=<AddmmBackward0>)"
            ]
          },
          "metadata": {},
          "execution_count": 28
        }
      ],
      "source": [
        "model(dummy_x.to(device))"
      ]
    },
    {
      "cell_type": "markdown",
      "metadata": {
        "id": "1biKqlJy3Qzi"
      },
      "source": [
        "### Creating training function"
      ]
    },
    {
      "cell_type": "code",
      "execution_count": 29,
      "metadata": {
        "id": "lakvnDjy3Z-P"
      },
      "outputs": [],
      "source": [
        "def training_loop(model, dataloader, accuracy_fn, loss_fn, device, optimizer):\n",
        "  '''\n",
        "  args\n",
        "  -----\n",
        "  model: torch model architecture\n",
        "  epochs: [int] number of epochs\n",
        "  dataloader:[torch.tensor] data in batches\n",
        "  accuracy_fn: accuracy function \n",
        "  loss_fn: loss function\n",
        "  device: either cpu or cuda\n",
        "  optimizer: optimizer function\n",
        "\n",
        "  returns accuracy and loss function metrics of the trained data\n",
        "  '''\n",
        "  train_loss=0\n",
        "  train_acc=0\n",
        "  model.train()\n",
        "  for batch, (X,y) in enumerate(dataloader):\n",
        "    X, y= X.to(device), y.to(device)\n",
        "    y_logits= model(X)\n",
        "    loss = loss_fn(y_logits, y)\n",
        "    train_loss += loss.item()\n",
        "    train_acc += accuracy_fn(y, y_logits.argmax(dim=1)).item()\n",
        "    optimizer.zero_grad()\n",
        "    loss.backward()\n",
        "    optimizer.step()\n",
        "\n",
        "  train_loss /= len(dataloader)\n",
        "  train_acc /= len(dataloader)\n",
        "  \n",
        "  return train_loss, train_acc\n",
        "  #  print(f'Train loss: {train_loss:.3f} | accuracy: {train_acc:.4f}')"
      ]
    },
    {
      "cell_type": "code",
      "execution_count": 30,
      "metadata": {
        "id": "iTUpXJxj9KFi"
      },
      "outputs": [],
      "source": [
        "def test_loop(model: torch.nn.Module,dataloader, accuracy_fn, loss_fn, device):\n",
        "  '''\n",
        "  args\n",
        "  -----\n",
        "  model: torch model architecture\n",
        "  epochs: [int] number of epochs\n",
        "  dataloader:[torch.tensor] data in batches\n",
        "  accuracy_fn: accuracy function \n",
        "  loss_fn: loss function\n",
        "  device: either cpu or cuda\n",
        "\n",
        "  returns accuracy and loss function metrics of the test data\n",
        "  '''\n",
        "\n",
        "  \n",
        "  test_loss=0\n",
        "  test_acc=0\n",
        "  model.eval()\n",
        "  with torch.inference_mode():\n",
        "    for X, y in dataloader:\n",
        "      X, y= X.to(device), y.to(device)\n",
        "      y_pred= model(X)\n",
        "      loss= loss_fn(y_pred, y)\n",
        "      test_loss += loss.item()\n",
        "      test_acc += accuracy_fn(y, y_pred.argmax(dim=1)).item()\n",
        "    test_loss /= len(dataloader)\n",
        "    test_acc /= len(dataloader)\n",
        "    \n",
        "    return test_loss, test_acc\n",
        "    #print (f'test loss: {test_loss:.3f}| test accuracy {test_acc:.4f}')\n",
        "  \n"
      ]
    },
    {
      "cell_type": "code",
      "execution_count": 31,
      "metadata": {
        "id": "r3LkmVJaHUSX"
      },
      "outputs": [],
      "source": [
        "def training_function(model, optimizer, train_dataloader, test_dataloader, accuracy_fn, loss_fn, device, epochs):\n",
        "  '''\n",
        "  args\n",
        "  -----\n",
        "  model: torch model architecture\n",
        "  epochs: [int] number of epochs\n",
        "  train_dataloader: trained data in batches\n",
        "  test_dataloader: test data in batches\n",
        "  accuracy_fn: accuracy function \n",
        "  loss_fn: loss function\n",
        "  device: either cpu or cuda\n",
        "  optimizer: optimizer function\n",
        "\n",
        "  returns accuracy and loss function metrics of the trained and test data\n",
        "  '''\n",
        "\n",
        "  result= {'train_loss': [],\n",
        "          'train_Acc': [],\n",
        "          'test_loss': [],\n",
        "          'test_Acc':[]}\n",
        "  for epoch in tqdm(range(epochs)):\n",
        "    train_loss, train_acc= training_loop(model=model, \n",
        "                                         dataloader= train_dataloader, \n",
        "                                         accuracy_fn= accuracy_fn,\n",
        "                                         loss_fn= loss_fn, \n",
        "                                         device= device,\n",
        "                                         optimizer= optimizer)\n",
        "    test_loss, test_acc= test_loop(model= model, dataloader=test_dataloader, accuracy_fn=accuracy_fn, loss_fn= loss_fn, device=device)\n",
        "\n",
        "    print (f'Epochs: {epoch} | train loss {train_loss:.4f} | Train acc: {train_acc:.4f} |test_loss {test_loss:.4f}| test acc {test_acc:.4f}')\n",
        "\n",
        "    result['train_loss'].append(train_loss)\n",
        "    result['test_loss'].append(test_loss)\n",
        "    result['train_Acc'].append(train_acc)\n",
        "    result['test_Acc'].append(test_acc)\n",
        "\n",
        "  return result"
      ]
    },
    {
      "cell_type": "code",
      "execution_count": 32,
      "metadata": {
        "id": "0gjVO-bUBrBb"
      },
      "outputs": [],
      "source": [
        "accuracy= Accuracy(task= 'multiclass', num_classes= 10).to(device)\n",
        "loss_fn= nn.CrossEntropyLoss()\n",
        "optimizer= torch.optim.Adam(model.parameters(), lr=0.001)"
      ]
    },
    {
      "cell_type": "code",
      "execution_count": 33,
      "metadata": {
        "colab": {
          "base_uri": "https://localhost:8080/",
          "height": 223,
          "referenced_widgets": [
            "426b20542233431d8849aa15264c3128",
            "37dccd4dc80245d492cad1e4dd83c18d",
            "6e871400e98d42339ba043fe87cedb5e",
            "70d5f1419b004a0498eba46ef5cbbadc",
            "2b3d8856b5b24f908498b313e26bb8fd",
            "5f794379eadc4ca69ba820b14fdd5757",
            "cfe79a290cd04ca7ab5bec26d01f7958",
            "c5523a0232164bf896518d6a650405d3",
            "bb16398f2d4d409bb37ffcef7e7a1bb4",
            "03ee6e4c860746ab9f898ed9442424af",
            "d225ded5d3914d10acb0e717f7607fb4"
          ]
        },
        "id": "mdrAbvv6KRt8",
        "outputId": "ba768718-b9fc-4bbf-8076-21c8fa4142d6"
      },
      "outputs": [
        {
          "output_type": "display_data",
          "data": {
            "text/plain": [
              "  0%|          | 0/10 [00:00<?, ?it/s]"
            ],
            "application/vnd.jupyter.widget-view+json": {
              "version_major": 2,
              "version_minor": 0,
              "model_id": "426b20542233431d8849aa15264c3128"
            }
          },
          "metadata": {}
        },
        {
          "output_type": "stream",
          "name": "stdout",
          "text": [
            "Epochs: 0 | train loss 1.8662 | Train acc: 0.3457 |test_loss 1.4439| test acc 0.4880\n",
            "Epochs: 1 | train loss 1.6053 | Train acc: 0.4323 |test_loss 1.2774| test acc 0.5516\n",
            "Epochs: 2 | train loss 1.4958 | Train acc: 0.4738 |test_loss 1.2165| test acc 0.5659\n",
            "Epochs: 3 | train loss 1.4362 | Train acc: 0.4987 |test_loss 1.2333| test acc 0.5677\n",
            "Epochs: 4 | train loss 1.3849 | Train acc: 0.5158 |test_loss 1.1550| test acc 0.5995\n",
            "Epochs: 5 | train loss 1.3534 | Train acc: 0.5301 |test_loss 1.1774| test acc 0.5970\n",
            "Epochs: 6 | train loss 1.3233 | Train acc: 0.5396 |test_loss 1.1355| test acc 0.6082\n",
            "Epochs: 7 | train loss 1.3051 | Train acc: 0.5450 |test_loss 1.0804| test acc 0.6280\n",
            "Epochs: 8 | train loss 1.2905 | Train acc: 0.5519 |test_loss 1.1240| test acc 0.5983\n",
            "Epochs: 9 | train loss 1.2721 | Train acc: 0.5581 |test_loss 1.0942| test acc 0.6239\n"
          ]
        }
      ],
      "source": [
        "model_result= training_function(model=model, \n",
        "                  epochs=10, \n",
        "                  train_dataloader= train_dataloader,\n",
        "                  test_dataloader= test_dataloader,\n",
        "                  accuracy_fn= accuracy,\n",
        "                  loss_fn= loss_fn, \n",
        "                  device= device,\n",
        "                  optimizer= optimizer)"
      ]
    },
    {
      "cell_type": "code",
      "execution_count": 51,
      "metadata": {
        "id": "6y_9V332fcH_",
        "colab": {
          "base_uri": "https://localhost:8080/"
        },
        "outputId": "fe14ad38-a731-4006-ce7f-c20e2bcb2458"
      },
      "outputs": [
        {
          "output_type": "execute_result",
          "data": {
            "text/plain": [
              "{'train_loss': [1.8662200984631452,\n",
              "  1.605332198695197,\n",
              "  1.4957869000260982,\n",
              "  1.4361508279295205,\n",
              "  1.3848933267120513,\n",
              "  1.3534018844270737,\n",
              "  1.3233225298324458,\n",
              "  1.3050968261460654,\n",
              "  1.2904848821332495,\n",
              "  1.2721224498535224],\n",
              " 'train_Acc': [0.3457093730006398,\n",
              "  0.43230166346769033,\n",
              "  0.4738283749200256,\n",
              "  0.49872040946896995,\n",
              "  0.5158349328214972,\n",
              "  0.5301303582853487,\n",
              "  0.5396473128598849,\n",
              "  0.5450455854126679,\n",
              "  0.5519233845169546,\n",
              "  0.5581413947536789],\n",
              " 'test_loss': [1.4439053851575516,\n",
              "  1.2774419529369463,\n",
              "  1.2164713357584165,\n",
              "  1.2333128151421349,\n",
              "  1.1550325001009738,\n",
              "  1.1774435389917879,\n",
              "  1.1355045862472095,\n",
              "  1.0803921034160895,\n",
              "  1.123976038096431,\n",
              "  1.0941501069373596],\n",
              " 'test_Acc': [0.48801916932907347,\n",
              "  0.551617412140575,\n",
              "  0.5658945686900958,\n",
              "  0.5676916932907349,\n",
              "  0.5995407348242812,\n",
              "  0.5970447284345048,\n",
              "  0.6082268370607029,\n",
              "  0.6279952076677316,\n",
              "  0.5983426517571885,\n",
              "  0.6239017571884984]}"
            ]
          },
          "metadata": {},
          "execution_count": 51
        }
      ],
      "source": [
        "model_result"
      ]
    },
    {
      "cell_type": "code",
      "execution_count": 35,
      "metadata": {
        "id": "_2JLdBDESkte"
      },
      "outputs": [],
      "source": [
        "class TinyVGGModel(nn.Module):\n",
        "  '''\n",
        "  Model architecture that replicates the tinyVGG model from\n",
        "  CNN explainer website.\n",
        "  '''\n",
        "  def __init__(self, input_shape: int, hidden_shape: int, output_shape:int):\n",
        "    super().__init__()\n",
        "    self.conv_block= nn.Sequential(\n",
        "        nn.Conv2d(in_channels= input_shape,# in_channels = no of channels in visual data. it is usually input shape\n",
        "                  out_channels= hidden_shape,\n",
        "                  kernel_size= 3,\n",
        "                  stride=1,\n",
        "                  padding=1),\n",
        "\n",
        "        nn.ReLU(),\n",
        "        nn.Conv2d(in_channels= hidden_shape,\n",
        "                  out_channels=hidden_shape,\n",
        "                  kernel_size=3,\n",
        "                  stride=1,\n",
        "                  padding=1),\n",
        "        nn.ReLU(),\n",
        "        nn.MaxPool2d(kernel_size=2)\n",
        "        )\n",
        "    \n",
        "    self.conv_block_2= nn.Sequential(\n",
        "        nn.Conv2d(in_channels= hidden_shape,\n",
        "                  out_channels=hidden_shape,\n",
        "                  kernel_size=3,\n",
        "                  stride=1,\n",
        "                  padding=1),\n",
        "        nn.ReLU(),\n",
        "        nn.Conv2d(in_channels= hidden_shape,\n",
        "                  out_channels= hidden_shape,\n",
        "                  kernel_size= 3,\n",
        "                  padding=1,\n",
        "                  stride=1),\n",
        "        nn.ReLU(),\n",
        "        nn.MaxPool2d(kernel_size=2)\n",
        "        )\n",
        "    \n",
        "  \n",
        "    self.classifier_layer= nn.Sequential(\n",
        "        nn.Flatten(),\n",
        "        nn.Linear(in_features= hidden_shape*8*8, out_features= hidden_shape),\n",
        "        nn.ReLU(),\n",
        "        nn.Linear(in_features=hidden_shape, out_features= output_shape)\n",
        "    )\n",
        "  \n",
        "  def forward(self, x):\n",
        "    x= self.conv_block(x)\n",
        "    #print (f'Output of conv_block layer {x.shape}')\n",
        "    x= self.conv_block_2(x)\n",
        "    #print (f'Output of conv_block_2 layer {x.shape}')\n",
        "    x= self.classifier_layer(x)\n",
        "    #print (f'Output of classifier layer {x.shape}')\n",
        "    return x\n",
        "\n"
      ]
    },
    {
      "cell_type": "code",
      "execution_count": 36,
      "metadata": {
        "id": "GivMdbiYSs-v"
      },
      "outputs": [],
      "source": [
        "torch.manual_seed(42)\n",
        "# input data have only one color chanel \n",
        "model_conv= TinyVGGModel(input_shape=3,\n",
        "                               hidden_shape=250,\n",
        "                               output_shape=len(class_names)).to(device)                              "
      ]
    },
    {
      "cell_type": "code",
      "execution_count": 37,
      "metadata": {
        "colab": {
          "base_uri": "https://localhost:8080/"
        },
        "id": "t18ez28P3n8O",
        "outputId": "02b69772-b4e7-4937-aebb-2b8ac87a88d8"
      },
      "outputs": [
        {
          "output_type": "execute_result",
          "data": {
            "text/plain": [
              "tensor([[-0.0523,  0.0374,  0.0392,  0.0501,  0.0296, -0.0034, -0.0261, -0.0423,\n",
              "          0.0069, -0.0528]], device='cuda:0', grad_fn=<AddmmBackward0>)"
            ]
          },
          "metadata": {},
          "execution_count": 37
        }
      ],
      "source": [
        "dummy_x= torch.rand(size= [1,3,32,32]).to(device)\n",
        "model_conv(dummy_x)"
      ]
    },
    {
      "cell_type": "code",
      "execution_count": 38,
      "metadata": {
        "id": "6bqndUdDW__N"
      },
      "outputs": [],
      "source": [
        "optimizer_conv= torch.optim.SGD(model_conv.parameters(), lr=0.1)"
      ]
    },
    {
      "cell_type": "code",
      "execution_count": 39,
      "metadata": {
        "colab": {
          "base_uri": "https://localhost:8080/",
          "height": 205,
          "referenced_widgets": [
            "05a8b67874e0444f961f2c4fe480f783",
            "d3d4355ffc1f44dea5dc6da721bca07e",
            "e00853cbb98b4a0898e0e10afc57f2fb",
            "41a7978f534f4c779b128182ff1acdb0",
            "c70690a4f5d94081a836dd720607d8a6",
            "d125ec7eb35e4de6988ee8d6a1adbd37",
            "97ac2efd449e4d87b5c515a7b6d49a68",
            "a8206880ce2c4a73ba03b68a21268501",
            "999d37eb66894d5d800f74d59b22c482",
            "0273a2870b35465b877ac533255fa36c",
            "ee3867a23f8a479c9c8b65bc96107883"
          ]
        },
        "id": "ZyE-uscinEu2",
        "outputId": "e0a4e439-df5d-4598-ac23-e2f647b4be9b"
      },
      "outputs": [
        {
          "output_type": "display_data",
          "data": {
            "text/plain": [
              "  0%|          | 0/9 [00:00<?, ?it/s]"
            ],
            "application/vnd.jupyter.widget-view+json": {
              "version_major": 2,
              "version_minor": 0,
              "model_id": "05a8b67874e0444f961f2c4fe480f783"
            }
          },
          "metadata": {}
        },
        {
          "output_type": "stream",
          "name": "stdout",
          "text": [
            "Epochs: 0 | train loss 2.0280 | Train acc: 0.2569 |test_loss 1.7100| test acc 0.3691\n",
            "Epochs: 1 | train loss 1.4638 | Train acc: 0.4781 |test_loss 1.0519| test acc 0.6419\n",
            "Epochs: 2 | train loss 1.1440 | Train acc: 0.5956 |test_loss 1.1161| test acc 0.6025\n",
            "Epochs: 3 | train loss 0.9866 | Train acc: 0.6547 |test_loss 0.7392| test acc 0.7422\n",
            "Epochs: 4 | train loss 0.8695 | Train acc: 0.6951 |test_loss 0.7546| test acc 0.7334\n",
            "Epochs: 5 | train loss 0.7791 | Train acc: 0.7305 |test_loss 0.6035| test acc 0.7900\n",
            "Epochs: 6 | train loss 0.7161 | Train acc: 0.7498 |test_loss 0.6427| test acc 0.7824\n",
            "Epochs: 7 | train loss 0.6652 | Train acc: 0.7717 |test_loss 0.5672| test acc 0.8091\n",
            "Epochs: 8 | train loss 0.6069 | Train acc: 0.7909 |test_loss 0.5849| test acc 0.8105\n"
          ]
        }
      ],
      "source": [
        "model_conv_result= training_function(model=model_conv, \n",
        "                  epochs=9, \n",
        "                  train_dataloader= train_dataloader,\n",
        "                  test_dataloader= test_dataloader,\n",
        "                  accuracy_fn= accuracy,\n",
        "                  loss_fn= loss_fn, \n",
        "                  device= device,\n",
        "                  optimizer= optimizer_conv)\n",
        "                  "
      ]
    },
    {
      "cell_type": "code",
      "execution_count": 40,
      "metadata": {
        "id": "rNeD1YUWoCxn"
      },
      "outputs": [],
      "source": [
        "def eval_model(model, dataloader, accuracy_fn, loss_fn, device):\n",
        "  test_loss= 0\n",
        "  test_acc=0\n",
        "  model.eval()\n",
        "  with torch.inference_mode():\n",
        "    for X, y in dataloader:\n",
        "      X,y= X.to(device), y.to(device)\n",
        "      y_pred= model(X)\n",
        "      test_loss += loss_fn(y_pred, y)\n",
        "      test_acc += accuracy_fn(y, y_pred.argmax(dim=1))\n",
        "    test_loss /= len(dataloader)\n",
        "    test_acc /= len(dataloader)\n",
        "\n",
        "    return {\n",
        "        'model name': model.__class__.__name__,\n",
        "        'accuracy': test_acc.item(),\n",
        "        'loss': test_loss.item()\n",
        "    }\n",
        "\n",
        "      "
      ]
    },
    {
      "cell_type": "code",
      "execution_count": 41,
      "metadata": {
        "id": "j2y-DNC7rxCH",
        "colab": {
          "base_uri": "https://localhost:8080/"
        },
        "outputId": "34dec341-8209-45d4-b6fa-260ba661dfc4"
      },
      "outputs": [
        {
          "output_type": "execute_result",
          "data": {
            "text/plain": [
              "{'model name': 'TinyVGGModel',\n",
              " 'accuracy': 0.8102036714553833,\n",
              " 'loss': 0.5851335525512695}"
            ]
          },
          "metadata": {},
          "execution_count": 41
        }
      ],
      "source": [
        "eval_model(model= model_conv, dataloader= test_dataloader, accuracy_fn= accuracy, loss_fn= loss_fn, device= device )"
      ]
    },
    {
      "cell_type": "code",
      "execution_count": 42,
      "metadata": {
        "id": "2cWnLlryRC2-",
        "colab": {
          "base_uri": "https://localhost:8080/"
        },
        "outputId": "b8eafc11-408d-43f4-a746-45ec04e85e2c"
      },
      "outputs": [
        {
          "output_type": "execute_result",
          "data": {
            "text/plain": [
              "Dataset CIFAR10\n",
              "    Number of datapoints: 10000\n",
              "    Root location: cifa_dataset_test\n",
              "    Split: Test\n",
              "    StandardTransform\n",
              "Transform: Compose(\n",
              "               ToTensor()\n",
              "           )"
            ]
          },
          "metadata": {},
          "execution_count": 42
        }
      ],
      "source": [
        "test_data"
      ]
    },
    {
      "cell_type": "code",
      "execution_count": 43,
      "metadata": {
        "id": "Vl6vFgd1sDxS"
      },
      "outputs": [],
      "source": [
        "### Make predictions\n",
        "pred_list= []\n",
        "model_conv.to(device)\n",
        "model_conv.eval()\n",
        "with torch.inference_mode():\n",
        "  for X, y in test_data:\n",
        "    X= X.to(device)\n",
        "    X= torch.unsqueeze(X, dim=0)\n",
        "    y_pred= model_conv(X)\n",
        "    y_pred= y_pred.argmax(dim=1)\n",
        "    pred_list.append(y_pred.cpu())\n",
        "pred_list= torch.stack(pred_list)"
      ]
    },
    {
      "cell_type": "code",
      "execution_count": 44,
      "metadata": {
        "id": "8vuWIE-jMuQs",
        "colab": {
          "base_uri": "https://localhost:8080/"
        },
        "outputId": "c0dd654a-1084-43b0-b904-d00047ffbee1"
      },
      "outputs": [
        {
          "output_type": "execute_result",
          "data": {
            "text/plain": [
              "tensor([3, 8, 8, 0, 6, 6, 1, 6, 3, 1])"
            ]
          },
          "metadata": {},
          "execution_count": 44
        }
      ],
      "source": [
        "pred_list[: 10].squeeze()"
      ]
    },
    {
      "cell_type": "code",
      "execution_count": 45,
      "metadata": {
        "id": "zRJt1WgXaw2I"
      },
      "outputs": [],
      "source": [
        "X= test_data.data\n",
        "y= test_data.targets"
      ]
    },
    {
      "cell_type": "code",
      "execution_count": 46,
      "metadata": {
        "id": "6DYpmQNPboqu",
        "colab": {
          "base_uri": "https://localhost:8080/"
        },
        "outputId": "a76cc939-f9af-423e-9b8f-85143ae97d11"
      },
      "outputs": [
        {
          "output_type": "execute_result",
          "data": {
            "text/plain": [
              "(10, 32, 32, 3)"
            ]
          },
          "metadata": {},
          "execution_count": 46
        }
      ],
      "source": [
        "X[: 10].shape"
      ]
    },
    {
      "cell_type": "code",
      "execution_count": 47,
      "metadata": {
        "id": "TLsx3UpMM7VT",
        "colab": {
          "base_uri": "https://localhost:8080/",
          "height": 749
        },
        "outputId": "67643723-b43b-4782-b816-4e42ae1a2040"
      },
      "outputs": [
        {
          "output_type": "display_data",
          "data": {
            "text/plain": [
              "<Figure size 900x900 with 9 Axes>"
            ],
            "image/png": "[encoded data removed]"
          },
          "metadata": {}
        }
      ],
      "source": [
        "show_image(image_data= X[199:209], class_names= y[199:209], class_preds= pred_list[199: 209])"
      ]
    },
    {
      "cell_type": "code",
      "execution_count": 48,
      "metadata": {
        "id": "0_7s0TmpfYzH",
        "colab": {
          "base_uri": "https://localhost:8080/"
        },
        "outputId": "bbb3a0f6-28f9-4bf3-d3d5-a0c4787797a7"
      },
      "outputs": [
        {
          "output_type": "stream",
          "name": "stdout",
          "text": [
            "Looking in indexes: https://pypi.org/simple, https://us-python.pkg.dev/colab-wheels/public/simple/\n",
            "Requirement already satisfied: mlxtend in /usr/local/lib/python3.10/dist-packages (0.14.0)\n",
            "Collecting mlxtend\n",
            "  Downloading mlxtend-0.22.0-py2.py3-none-any.whl (1.4 MB)\n",
            "\u001b[2K     \u001b[90m━━━━━━━━━━━━━━━━━━━━━━━━━━━━━━━━━━━━━━━━\u001b[0m \u001b[32m1.4/1.4 MB\u001b[0m \u001b[31m57.5 MB/s\u001b[0m eta \u001b[36m0:00:00\u001b[0m\n",
            "\u001b[?25hRequirement already satisfied: scipy>=1.2.1 in /usr/local/lib/python3.10/dist-packages (from mlxtend) (1.10.1)\n",
            "Requirement already satisfied: setuptools in /usr/local/lib/python3.10/dist-packages (from mlxtend) (67.7.2)\n",
            "Requirement already satisfied: matplotlib>=3.0.0 in /usr/local/lib/python3.10/dist-packages (from mlxtend) (3.7.1)\n",
            "Requirement already satisfied: pandas>=0.24.2 in /usr/local/lib/python3.10/dist-packages (from mlxtend) (1.5.3)\n",
            "Requirement already satisfied: joblib>=0.13.2 in /usr/local/lib/python3.10/dist-packages (from mlxtend) (1.2.0)\n",
            "Requirement already satisfied: scikit-learn>=1.0.2 in /usr/local/lib/python3.10/dist-packages (from mlxtend) (1.2.2)\n",
            "Requirement already satisfied: numpy>=1.16.2 in /usr/local/lib/python3.10/dist-packages (from mlxtend) (1.22.4)\n",
            "Requirement already satisfied: pyparsing>=2.3.1 in /usr/local/lib/python3.10/dist-packages (from matplotlib>=3.0.0->mlxtend) (3.0.9)\n",
            "Requirement already satisfied: kiwisolver>=1.0.1 in /usr/local/lib/python3.10/dist-packages (from matplotlib>=3.0.0->mlxtend) (1.4.4)\n",
            "Requirement already satisfied: fonttools>=4.22.0 in /usr/local/lib/python3.10/dist-packages (from matplotlib>=3.0.0->mlxtend) (4.39.3)\n",
            "Requirement already satisfied: python-dateutil>=2.7 in /usr/local/lib/python3.10/dist-packages (from matplotlib>=3.0.0->mlxtend) (2.8.2)\n",
            "Requirement already satisfied: cycler>=0.10 in /usr/local/lib/python3.10/dist-packages (from matplotlib>=3.0.0->mlxtend) (0.11.0)\n",
            "Requirement already satisfied: contourpy>=1.0.1 in /usr/local/lib/python3.10/dist-packages (from matplotlib>=3.0.0->mlxtend) (1.0.7)\n",
            "Requirement already satisfied: pillow>=6.2.0 in /usr/local/lib/python3.10/dist-packages (from matplotlib>=3.0.0->mlxtend) (8.4.0)\n",
            "Requirement already satisfied: packaging>=20.0 in /usr/local/lib/python3.10/dist-packages (from matplotlib>=3.0.0->mlxtend) (23.1)\n",
            "Requirement already satisfied: pytz>=2020.1 in /usr/local/lib/python3.10/dist-packages (from pandas>=0.24.2->mlxtend) (2022.7.1)\n",
            "Requirement already satisfied: threadpoolctl>=2.0.0 in /usr/local/lib/python3.10/dist-packages (from scikit-learn>=1.0.2->mlxtend) (3.1.0)\n",
            "Requirement already satisfied: six>=1.5 in /usr/local/lib/python3.10/dist-packages (from python-dateutil>=2.7->matplotlib>=3.0.0->mlxtend) (1.16.0)\n",
            "Installing collected packages: mlxtend\n",
            "  Attempting uninstall: mlxtend\n",
            "    Found existing installation: mlxtend 0.14.0\n",
            "    Uninstalling mlxtend-0.14.0:\n",
            "      Successfully uninstalled mlxtend-0.14.0\n",
            "Successfully installed mlxtend-0.22.0\n"
          ]
        }
      ],
      "source": [
        "!pip install --upgrade mlxtend "
      ]
    },
    {
      "cell_type": "code",
      "execution_count": 49,
      "metadata": {
        "id": "NXVrUVT4iZdC"
      },
      "outputs": [],
      "source": [
        "target= torch.tensor(test_data.targets)\n",
        "pred_list= pred_list.squeeze()"
      ]
    },
    {
      "cell_type": "code",
      "execution_count": 50,
      "metadata": {
        "id": "dFHtnsLBeOpz",
        "colab": {
          "base_uri": "https://localhost:8080/",
          "height": 670
        },
        "outputId": "6432618a-d638-4bdd-93a5-6950a37ac40a"
      },
      "outputs": [
        {
          "output_type": "display_data",
          "data": {
            "text/plain": [
              "<Figure size 1000x700 with 1 Axes>"
            ],
            "image/png": "[encoded data removed]"
          },
          "metadata": {}
        }
      ],
      "source": [
        "from torchmetrics import ConfusionMatrix\n",
        "from mlxtend.plotting import plot_confusion_matrix\n",
        "\n",
        "\n",
        "# setup confusion instance and compare predictions to target\n",
        "confmat= ConfusionMatrix(num_classes= len(class_names), task= 'multiclass')\n",
        "conf_tensor= confmat(preds= pred_list, target=target)\n",
        "\n",
        "# create a graphical representation of the confusion matrix and change tensor to numpy array\n",
        "\n",
        "fig, ax= plot_confusion_matrix(conf_mat=conf_tensor.numpy(), class_names= class_names, figsize= (10,7) )"
      ]
    },
    {
      "cell_type": "code",
      "execution_count": 50,
      "metadata": {
        "id": "q_YTIUmuiSIZ"
      },
      "outputs": [],
      "source": []
    }
  ],
  "metadata": {
    "colab": {
      "toc_visible": true,
      "provenance": [],
      "authorship_tag": "ABX9TyN3nPmpXBJ2SfN9CNTPR//G",
      "include_colab_link": true
    },
    "gpuClass": "standard",
    "kernelspec": {
      "display_name": "Python 3",
      "name": "python3"
    },
    "language_info": {
      "name": "python"
    },
    "widgets": {
      "application/vnd.jupyter.widget-state+json": {
        "426b20542233431d8849aa15264c3128": {
          "model_module": "@jupyter-widgets/controls",
          "model_name": "HBoxModel",
          "model_module_version": "1.5.0",
          "state": {
            "_dom_classes": [],
            "_model_module": "@jupyter-widgets/controls",
            "_model_module_version": "1.5.0",
            "_model_name": "HBoxModel",
            "_view_count": null,
            "_view_module": "@jupyter-widgets/controls",
            "_view_module_version": "1.5.0",
            "_view_name": "HBoxView",
            "box_style": "",
            "children": [
              "IPY_MODEL_37dccd4dc80245d492cad1e4dd83c18d",
              "IPY_MODEL_6e871400e98d42339ba043fe87cedb5e",
              "IPY_MODEL_70d5f1419b004a0498eba46ef5cbbadc"
            ],
            "layout": "IPY_MODEL_2b3d8856b5b24f908498b313e26bb8fd"
          }
        },
        "37dccd4dc80245d492cad1e4dd83c18d": {
          "model_module": "@jupyter-widgets/controls",
          "model_name": "HTMLModel",
          "model_module_version": "1.5.0",
          "state": {
            "_dom_classes": [],
            "_model_module": "@jupyter-widgets/controls",
            "_model_module_version": "1.5.0",
            "_model_name": "HTMLModel",
            "_view_count": null,
            "_view_module": "@jupyter-widgets/controls",
            "_view_module_version": "1.5.0",
            "_view_name": "HTMLView",
            "description": "",
            "description_tooltip": null,
            "layout": "IPY_MODEL_5f794379eadc4ca69ba820b14fdd5757",
            "placeholder": "​",
            "style": "IPY_MODEL_cfe79a290cd04ca7ab5bec26d01f7958",
            "value": "100%"
          }
        },
        "6e871400e98d42339ba043fe87cedb5e": {
          "model_module": "@jupyter-widgets/controls",
          "model_name": "FloatProgressModel",
          "model_module_version": "1.5.0",
          "state": {
            "_dom_classes": [],
            "_model_module": "@jupyter-widgets/controls",
            "_model_module_version": "1.5.0",
            "_model_name": "FloatProgressModel",
            "_view_count": null,
            "_view_module": "@jupyter-widgets/controls",
            "_view_module_version": "1.5.0",
            "_view_name": "ProgressView",
            "bar_style": "success",
            "description": "",
            "description_tooltip": null,
            "layout": "IPY_MODEL_c5523a0232164bf896518d6a650405d3",
            "max": 10,
            "min": 0,
            "orientation": "horizontal",
            "style": "IPY_MODEL_bb16398f2d4d409bb37ffcef7e7a1bb4",
            "value": 10
          }
        },
        "70d5f1419b004a0498eba46ef5cbbadc": {
          "model_module": "@jupyter-widgets/controls",
          "model_name": "HTMLModel",
          "model_module_version": "1.5.0",
          "state": {
            "_dom_classes": [],
            "_model_module": "@jupyter-widgets/controls",
            "_model_module_version": "1.5.0",
            "_model_name": "HTMLModel",
            "_view_count": null,
            "_view_module": "@jupyter-widgets/controls",
            "_view_module_version": "1.5.0",
            "_view_name": "HTMLView",
            "description": "",
            "description_tooltip": null,
            "layout": "IPY_MODEL_03ee6e4c860746ab9f898ed9442424af",
            "placeholder": "​",
            "style": "IPY_MODEL_d225ded5d3914d10acb0e717f7607fb4",
            "value": " 10/10 [06:15&lt;00:00, 37.39s/it]"
          }
        },
        "2b3d8856b5b24f908498b313e26bb8fd": {
          "model_module": "@jupyter-widgets/base",
          "model_name": "LayoutModel",
          "model_module_version": "1.2.0",
          "state": {
            "_model_module": "@jupyter-widgets/base",
            "_model_module_version": "1.2.0",
            "_model_name": "LayoutModel",
            "_view_count": null,
            "_view_module": "@jupyter-widgets/base",
            "_view_module_version": "1.2.0",
            "_view_name": "LayoutView",
            "align_content": null,
            "align_items": null,
            "align_self": null,
            "border": null,
            "bottom": null,
            "display": null,
            "flex": null,
            "flex_flow": null,
            "grid_area": null,
            "grid_auto_columns": null,
            "grid_auto_flow": null,
            "grid_auto_rows": null,
            "grid_column": null,
            "grid_gap": null,
            "grid_row": null,
            "grid_template_areas": null,
            "grid_template_columns": null,
            "grid_template_rows": null,
            "height": null,
            "justify_content": null,
            "justify_items": null,
            "left": null,
            "margin": null,
            "max_height": null,
            "max_width": null,
            "min_height": null,
            "min_width": null,
            "object_fit": null,
            "object_position": null,
            "order": null,
            "overflow": null,
            "overflow_x": null,
            "overflow_y": null,
            "padding": null,
            "right": null,
            "top": null,
            "visibility": null,
            "width": null
          }
        },
        "5f794379eadc4ca69ba820b14fdd5757": {
          "model_module": "@jupyter-widgets/base",
          "model_name": "LayoutModel",
          "model_module_version": "1.2.0",
          "state": {
            "_model_module": "@jupyter-widgets/base",
            "_model_module_version": "1.2.0",
            "_model_name": "LayoutModel",
            "_view_count": null,
            "_view_module": "@jupyter-widgets/base",
            "_view_module_version": "1.2.0",
            "_view_name": "LayoutView",
            "align_content": null,
            "align_items": null,
            "align_self": null,
            "border": null,
            "bottom": null,
            "display": null,
            "flex": null,
            "flex_flow": null,
            "grid_area": null,
            "grid_auto_columns": null,
            "grid_auto_flow": null,
            "grid_auto_rows": null,
            "grid_column": null,
            "grid_gap": null,
            "grid_row": null,
            "grid_template_areas": null,
            "grid_template_columns": null,
            "grid_template_rows": null,
            "height": null,
            "justify_content": null,
            "justify_items": null,
            "left": null,
            "margin": null,
            "max_height": null,
            "max_width": null,
            "min_height": null,
            "min_width": null,
            "object_fit": null,
            "object_position": null,
            "order": null,
            "overflow": null,
            "overflow_x": null,
            "overflow_y": null,
            "padding": null,
            "right": null,
            "top": null,
            "visibility": null,
            "width": null
          }
        },
        "cfe79a290cd04ca7ab5bec26d01f7958": {
          "model_module": "@jupyter-widgets/controls",
          "model_name": "DescriptionStyleModel",
          "model_module_version": "1.5.0",
          "state": {
            "_model_module": "@jupyter-widgets/controls",
            "_model_module_version": "1.5.0",
            "_model_name": "DescriptionStyleModel",
            "_view_count": null,
            "_view_module": "@jupyter-widgets/base",
            "_view_module_version": "1.2.0",
            "_view_name": "StyleView",
            "description_width": ""
          }
        },
        "c5523a0232164bf896518d6a650405d3": {
          "model_module": "@jupyter-widgets/base",
          "model_name": "LayoutModel",
          "model_module_version": "1.2.0",
          "state": {
            "_model_module": "@jupyter-widgets/base",
            "_model_module_version": "1.2.0",
            "_model_name": "LayoutModel",
            "_view_count": null,
            "_view_module": "@jupyter-widgets/base",
            "_view_module_version": "1.2.0",
            "_view_name": "LayoutView",
            "align_content": null,
            "align_items": null,
            "align_self": null,
            "border": null,
            "bottom": null,
            "display": null,
            "flex": null,
            "flex_flow": null,
            "grid_area": null,
            "grid_auto_columns": null,
            "grid_auto_flow": null,
            "grid_auto_rows": null,
            "grid_column": null,
            "grid_gap": null,
            "grid_row": null,
            "grid_template_areas": null,
            "grid_template_columns": null,
            "grid_template_rows": null,
            "height": null,
            "justify_content": null,
            "justify_items": null,
            "left": null,
            "margin": null,
            "max_height": null,
            "max_width": null,
            "min_height": null,
            "min_width": null,
            "object_fit": null,
            "object_position": null,
            "order": null,
            "overflow": null,
            "overflow_x": null,
            "overflow_y": null,
            "padding": null,
            "right": null,
            "top": null,
            "visibility": null,
            "width": null
          }
        },
        "bb16398f2d4d409bb37ffcef7e7a1bb4": {
          "model_module": "@jupyter-widgets/controls",
          "model_name": "ProgressStyleModel",
          "model_module_version": "1.5.0",
          "state": {
            "_model_module": "@jupyter-widgets/controls",
            "_model_module_version": "1.5.0",
            "_model_name": "ProgressStyleModel",
            "_view_count": null,
            "_view_module": "@jupyter-widgets/base",
            "_view_module_version": "1.2.0",
            "_view_name": "StyleView",
            "bar_color": null,
            "description_width": ""
          }
        },
        "03ee6e4c860746ab9f898ed9442424af": {
          "model_module": "@jupyter-widgets/base",
          "model_name": "LayoutModel",
          "model_module_version": "1.2.0",
          "state": {
            "_model_module": "@jupyter-widgets/base",
            "_model_module_version": "1.2.0",
            "_model_name": "LayoutModel",
            "_view_count": null,
            "_view_module": "@jupyter-widgets/base",
            "_view_module_version": "1.2.0",
            "_view_name": "LayoutView",
            "align_content": null,
            "align_items": null,
            "align_self": null,
            "border": null,
            "bottom": null,
            "display": null,
            "flex": null,
            "flex_flow": null,
            "grid_area": null,
            "grid_auto_columns": null,
            "grid_auto_flow": null,
            "grid_auto_rows": null,
            "grid_column": null,
            "grid_gap": null,
            "grid_row": null,
            "grid_template_areas": null,
            "grid_template_columns": null,
            "grid_template_rows": null,
            "height": null,
            "justify_content": null,
            "justify_items": null,
            "left": null,
            "margin": null,
            "max_height": null,
            "max_width": null,
            "min_height": null,
            "min_width": null,
            "object_fit": null,
            "object_position": null,
            "order": null,
            "overflow": null,
            "overflow_x": null,
            "overflow_y": null,
            "padding": null,
            "right": null,
            "top": null,
            "visibility": null,
            "width": null
          }
        },
        "d225ded5d3914d10acb0e717f7607fb4": {
          "model_module": "@jupyter-widgets/controls",
          "model_name": "DescriptionStyleModel",
          "model_module_version": "1.5.0",
          "state": {
            "_model_module": "@jupyter-widgets/controls",
            "_model_module_version": "1.5.0",
            "_model_name": "DescriptionStyleModel",
            "_view_count": null,
            "_view_module": "@jupyter-widgets/base",
            "_view_module_version": "1.2.0",
            "_view_name": "StyleView",
            "description_width": ""
          }
        },
        "05a8b67874e0444f961f2c4fe480f783": {
          "model_module": "@jupyter-widgets/controls",
          "model_name": "HBoxModel",
          "model_module_version": "1.5.0",
          "state": {
            "_dom_classes": [],
            "_model_module": "@jupyter-widgets/controls",
            "_model_module_version": "1.5.0",
            "_model_name": "HBoxModel",
            "_view_count": null,
            "_view_module": "@jupyter-widgets/controls",
            "_view_module_version": "1.5.0",
            "_view_name": "HBoxView",
            "box_style": "",
            "children": [
              "IPY_MODEL_d3d4355ffc1f44dea5dc6da721bca07e",
              "IPY_MODEL_e00853cbb98b4a0898e0e10afc57f2fb",
              "IPY_MODEL_41a7978f534f4c779b128182ff1acdb0"
            ],
            "layout": "IPY_MODEL_c70690a4f5d94081a836dd720607d8a6"
          }
        },
        "d3d4355ffc1f44dea5dc6da721bca07e": {
          "model_module": "@jupyter-widgets/controls",
          "model_name": "HTMLModel",
          "model_module_version": "1.5.0",
          "state": {
            "_dom_classes": [],
            "_model_module": "@jupyter-widgets/controls",
            "_model_module_version": "1.5.0",
            "_model_name": "HTMLModel",
            "_view_count": null,
            "_view_module": "@jupyter-widgets/controls",
            "_view_module_version": "1.5.0",
            "_view_name": "HTMLView",
            "description": "",
            "description_tooltip": null,
            "layout": "IPY_MODEL_d125ec7eb35e4de6988ee8d6a1adbd37",
            "placeholder": "​",
            "style": "IPY_MODEL_97ac2efd449e4d87b5c515a7b6d49a68",
            "value": "100%"
          }
        },
        "e00853cbb98b4a0898e0e10afc57f2fb": {
          "model_module": "@jupyter-widgets/controls",
          "model_name": "FloatProgressModel",
          "model_module_version": "1.5.0",
          "state": {
            "_dom_classes": [],
            "_model_module": "@jupyter-widgets/controls",
            "_model_module_version": "1.5.0",
            "_model_name": "FloatProgressModel",
            "_view_count": null,
            "_view_module": "@jupyter-widgets/controls",
            "_view_module_version": "1.5.0",
            "_view_name": "ProgressView",
            "bar_style": "success",
            "description": "",
            "description_tooltip": null,
            "layout": "IPY_MODEL_a8206880ce2c4a73ba03b68a21268501",
            "max": 9,
            "min": 0,
            "orientation": "horizontal",
            "style": "IPY_MODEL_999d37eb66894d5d800f74d59b22c482",
            "value": 9
          }
        },
        "41a7978f534f4c779b128182ff1acdb0": {
          "model_module": "@jupyter-widgets/controls",
          "model_name": "HTMLModel",
          "model_module_version": "1.5.0",
          "state": {
            "_dom_classes": [],
            "_model_module": "@jupyter-widgets/controls",
            "_model_module_version": "1.5.0",
            "_model_name": "HTMLModel",
            "_view_count": null,
            "_view_module": "@jupyter-widgets/controls",
            "_view_module_version": "1.5.0",
            "_view_name": "HTMLView",
            "description": "",
            "description_tooltip": null,
            "layout": "IPY_MODEL_0273a2870b35465b877ac533255fa36c",
            "placeholder": "​",
            "style": "IPY_MODEL_ee3867a23f8a479c9c8b65bc96107883",
            "value": " 9/9 [07:05&lt;00:00, 47.22s/it]"
          }
        },
        "c70690a4f5d94081a836dd720607d8a6": {
          "model_module": "@jupyter-widgets/base",
          "model_name": "LayoutModel",
          "model_module_version": "1.2.0",
          "state": {
            "_model_module": "@jupyter-widgets/base",
            "_model_module_version": "1.2.0",
            "_model_name": "LayoutModel",
            "_view_count": null,
            "_view_module": "@jupyter-widgets/base",
            "_view_module_version": "1.2.0",
            "_view_name": "LayoutView",
            "align_content": null,
            "align_items": null,
            "align_self": null,
            "border": null,
            "bottom": null,
            "display": null,
            "flex": null,
            "flex_flow": null,
            "grid_area": null,
            "grid_auto_columns": null,
            "grid_auto_flow": null,
            "grid_auto_rows": null,
            "grid_column": null,
            "grid_gap": null,
            "grid_row": null,
            "grid_template_areas": null,
            "grid_template_columns": null,
            "grid_template_rows": null,
            "height": null,
            "justify_content": null,
            "justify_items": null,
            "left": null,
            "margin": null,
            "max_height": null,
            "max_width": null,
            "min_height": null,
            "min_width": null,
            "object_fit": null,
            "object_position": null,
            "order": null,
            "overflow": null,
            "overflow_x": null,
            "overflow_y": null,
            "padding": null,
            "right": null,
            "top": null,
            "visibility": null,
            "width": null
          }
        },
        "d125ec7eb35e4de6988ee8d6a1adbd37": {
          "model_module": "@jupyter-widgets/base",
          "model_name": "LayoutModel",
          "model_module_version": "1.2.0",
          "state": {
            "_model_module": "@jupyter-widgets/base",
            "_model_module_version": "1.2.0",
            "_model_name": "LayoutModel",
            "_view_count": null,
            "_view_module": "@jupyter-widgets/base",
            "_view_module_version": "1.2.0",
            "_view_name": "LayoutView",
            "align_content": null,
            "align_items": null,
            "align_self": null,
            "border": null,
            "bottom": null,
            "display": null,
            "flex": null,
            "flex_flow": null,
            "grid_area": null,
            "grid_auto_columns": null,
            "grid_auto_flow": null,
            "grid_auto_rows": null,
            "grid_column": null,
            "grid_gap": null,
            "grid_row": null,
            "grid_template_areas": null,
            "grid_template_columns": null,
            "grid_template_rows": null,
            "height": null,
            "justify_content": null,
            "justify_items": null,
            "left": null,
            "margin": null,
            "max_height": null,
            "max_width": null,
            "min_height": null,
            "min_width": null,
            "object_fit": null,
            "object_position": null,
            "order": null,
            "overflow": null,
            "overflow_x": null,
            "overflow_y": null,
            "padding": null,
            "right": null,
            "top": null,
            "visibility": null,
            "width": null
          }
        },
        "97ac2efd449e4d87b5c515a7b6d49a68": {
          "model_module": "@jupyter-widgets/controls",
          "model_name": "DescriptionStyleModel",
          "model_module_version": "1.5.0",
          "state": {
            "_model_module": "@jupyter-widgets/controls",
            "_model_module_version": "1.5.0",
            "_model_name": "DescriptionStyleModel",
            "_view_count": null,
            "_view_module": "@jupyter-widgets/base",
            "_view_module_version": "1.2.0",
            "_view_name": "StyleView",
            "description_width": ""
          }
        },
        "a8206880ce2c4a73ba03b68a21268501": {
          "model_module": "@jupyter-widgets/base",
          "model_name": "LayoutModel",
          "model_module_version": "1.2.0",
          "state": {
            "_model_module": "@jupyter-widgets/base",
            "_model_module_version": "1.2.0",
            "_model_name": "LayoutModel",
            "_view_count": null,
            "_view_module": "@jupyter-widgets/base",
            "_view_module_version": "1.2.0",
            "_view_name": "LayoutView",
            "align_content": null,
            "align_items": null,
            "align_self": null,
            "border": null,
            "bottom": null,
            "display": null,
            "flex": null,
            "flex_flow": null,
            "grid_area": null,
            "grid_auto_columns": null,
            "grid_auto_flow": null,
            "grid_auto_rows": null,
            "grid_column": null,
            "grid_gap": null,
            "grid_row": null,
            "grid_template_areas": null,
            "grid_template_columns": null,
            "grid_template_rows": null,
            "height": null,
            "justify_content": null,
            "justify_items": null,
            "left": null,
            "margin": null,
            "max_height": null,
            "max_width": null,
            "min_height": null,
            "min_width": null,
            "object_fit": null,
            "object_position": null,
            "order": null,
            "overflow": null,
            "overflow_x": null,
            "overflow_y": null,
            "padding": null,
            "right": null,
            "top": null,
            "visibility": null,
            "width": null
          }
        },
        "999d37eb66894d5d800f74d59b22c482": {
          "model_module": "@jupyter-widgets/controls",
          "model_name": "ProgressStyleModel",
          "model_module_version": "1.5.0",
          "state": {
            "_model_module": "@jupyter-widgets/controls",
            "_model_module_version": "1.5.0",
            "_model_name": "ProgressStyleModel",
            "_view_count": null,
            "_view_module": "@jupyter-widgets/base",
            "_view_module_version": "1.2.0",
            "_view_name": "StyleView",
            "bar_color": null,
            "description_width": ""
          }
        },
        "0273a2870b35465b877ac533255fa36c": {
          "model_module": "@jupyter-widgets/base",
          "model_name": "LayoutModel",
          "model_module_version": "1.2.0",
          "state": {
            "_model_module": "@jupyter-widgets/base",
            "_model_module_version": "1.2.0",
            "_model_name": "LayoutModel",
            "_view_count": null,
            "_view_module": "@jupyter-widgets/base",
            "_view_module_version": "1.2.0",
            "_view_name": "LayoutView",
            "align_content": null,
            "align_items": null,
            "align_self": null,
            "border": null,
            "bottom": null,
            "display": null,
            "flex": null,
            "flex_flow": null,
            "grid_area": null,
            "grid_auto_columns": null,
            "grid_auto_flow": null,
            "grid_auto_rows": null,
            "grid_column": null,
            "grid_gap": null,
            "grid_row": null,
            "grid_template_areas": null,
            "grid_template_columns": null,
            "grid_template_rows": null,
            "height": null,
            "justify_content": null,
            "justify_items": null,
            "left": null,
            "margin": null,
            "max_height": null,
            "max_width": null,
            "min_height": null,
            "min_width": null,
            "object_fit": null,
            "object_position": null,
            "order": null,
            "overflow": null,
            "overflow_x": null,
            "overflow_y": null,
            "padding": null,
            "right": null,
            "top": null,
            "visibility": null,
            "width": null
          }
        },
        "ee3867a23f8a479c9c8b65bc96107883": {
          "model_module": "@jupyter-widgets/controls",
          "model_name": "DescriptionStyleModel",
          "model_module_version": "1.5.0",
          "state": {
            "_model_module": "@jupyter-widgets/controls",
            "_model_module_version": "1.5.0",
            "_model_name": "DescriptionStyleModel",
            "_view_count": null,
            "_view_module": "@jupyter-widgets/base",
            "_view_module_version": "1.2.0",
            "_view_name": "StyleView",
            "description_width": ""
          }
        }
      }
    },
    "accelerator": "GPU"
  },
  "nbformat": 4,
  "nbformat_minor": 0
}